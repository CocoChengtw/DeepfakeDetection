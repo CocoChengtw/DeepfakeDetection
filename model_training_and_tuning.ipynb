{
 "cells": [
  {
   "cell_type": "markdown",
   "id": "f4569cae",
   "metadata": {},
   "source": [
    "# Model Training and Hyperparameter Tuning for Deepfake Detection\n",
    "This notebook demonstrates the training process for a ConvNeXt V2 model using the Hugging Face `transformers` library. We fine-tune the model on image data to classify real vs. fake content, incorporating preprocessing, data augmentation, and early stopping."
   ]
  },
  {
   "cell_type": "markdown",
   "id": "524bd0a5",
   "metadata": {},
   "source": [
    "## Environment Setup"
   ]
  },
  {
   "cell_type": "code",
   "execution_count": null,
   "id": "6f8bac52",
   "metadata": {},
   "outputs": [],
   "source": [
    "import torch\n",
    "import numpy as np\n",
    "import evaluate\n",
    "from transformers import (\n",
    "    AutoModelForImageClassification, AutoImageProcessor, Trainer, TrainingArguments, EarlyStoppingCallback\n",
    ")\n",
    "from torchvision.transforms import Compose, Resize, CenterCrop, Normalize, ToTensor, ColorJitter, RandomRotation, RandomHorizontalFlip, RandomVerticalFlip"
   ]
  },
  {
   "cell_type": "markdown",
   "id": "918d5c19",
   "metadata": {},
   "source": [
    "## Model Checkpoint and Image Preprocessing"
   ]
  },
  {
   "cell_type": "code",
   "execution_count": null,
   "id": "59267383",
   "metadata": {},
   "outputs": [],
   "source": [
    "# Load pre-trained ConvNeXt V2 model and associated image processor\n",
    "model_checkpoint = 'facebook/convnextv2-atto-1k-224'\n",
    "image_processor = AutoImageProcessor.from_pretrained(model_checkpoint)\n",
    "\n",
    "# Define resizing strategy\n",
    "size = image_processor.size.get('shortest_edge', 224)\n",
    "crop_size = (size, size)\n",
    "\n",
    "# Define image transforms\n",
    "normalize = Normalize(mean=image_processor.image_mean, std=image_processor.image_std)\n",
    "train_transforms = Compose([\n",
    "    Resize(size), CenterCrop(crop_size), ToTensor(), normalize\n",
    "])\n",
    "val_transforms = Compose([\n",
    "    Resize(size), CenterCrop(crop_size), ToTensor(), normalize\n",
    "])"
   ]
  },
  {
   "cell_type": "markdown",
   "id": "03f9f378",
   "metadata": {},
   "source": [
    "## Compute Metrics"
   ]
  },
  {
   "cell_type": "code",
   "execution_count": null,
   "id": "3915adc1",
   "metadata": {},
   "outputs": [],
   "source": [
    "accuracy = evaluate.load(\"accuracy\")\n",
    "precision = evaluate.load(\"precision\")\n",
    "recall = evaluate.load(\"recall\")\n",
    "f1 = evaluate.load(\"f1\")\n",
    "roc_auc = evaluate.load(\"roc_auc\")\n",
    "\n",
    "def compute_metrics(eval_pred):\n",
    "    \"\"\"Computes accuracy on a batch of predictions\"\"\"\n",
    "    predictions = np.argmax(eval_pred.predictions, axis=1)\n",
    "    predictions_prob = softmax(eval_pred.predictions, axis=1)[:,1]\n",
    "    accuracy_score = accuracy.compute(predictions=predictions, references=eval_pred.label_ids)\n",
    "    precision_score = precision.compute(predictions=predictions, references=eval_pred.label_ids, average=None)\n",
    "    recall_score = recall.compute(predictions=predictions, references=eval_pred.label_ids, average=None)\n",
    "    f1_score = f1.compute(predictions=predictions, references=eval_pred.label_ids, average=None)\n",
    "    roc_auc_score = roc_auc.compute(prediction_scores=predictions_prob, references=eval_pred.label_ids)\n",
    "    \n",
    "    return {\"accuracy\": accuracy_score[\"accuracy\"],\n",
    "           \"precision_0\": precision_score[\"precision\"][0],\n",
    "           \"precision_1\": precision_score[\"precision\"][1],\n",
    "           \"recall_0\": recall_score[\"recall\"][0],\n",
    "            \"recall_1\": recall_score[\"recall\"][1],\n",
    "            \"f1_0\": f1_score[\"f1\"][0],\n",
    "           \"f1_1\": f1_score[\"f1\"][1],\n",
    "           \"roc_auc\": roc_auc_score[\"roc_auc\"]}\n",
    "\n",
    "def collate_fn(examples):\n",
    "    pixel_values = torch.stack([example[\"pixel_values\"] for example in examples])\n",
    "    labels = torch.tensor([example[\"label\"] for example in examples])\n",
    "    return {\"pixel_values\": pixel_values, \"labels\": labels}"
   ]
  },
  {
   "cell_type": "markdown",
   "id": "6c355f68",
   "metadata": {},
   "source": [
    "## Training Configuration and Launch"
   ]
  },
  {
   "cell_type": "code",
   "execution_count": null,
   "id": "96d82c68",
   "metadata": {},
   "outputs": [],
   "source": [
    "# Load dataset here\n",
    "# train_dataset = ...\n",
    "# val_dataset = ...\n",
    "\n",
    "# Set training arguments\n",
    "training_args = TrainingArguments(\n",
    "    output_dir='./results',\n",
    "    per_device_train_batch_size=16,\n",
    "    per_device_eval_batch_size=16,\n",
    "    evaluation_strategy='epoch',\n",
    "    save_strategy='epoch',\n",
    "    num_train_epochs=10,\n",
    "    logging_dir='./logs',\n",
    "    load_best_model_at_end=True,\n",
    "    metric_for_best_model='accuracy'\n",
    ")\n",
    "\n",
    "# Initialize model\n",
    "model = AutoModelForImageClassification.from_pretrained(model_checkpoint, num_labels=2)\n",
    "\n",
    "# Initialize trainer\n",
    "trainer = Trainer(\n",
    "    model=model,\n",
    "    args=training_args,\n",
    "    train_dataset=train_dataset,  # Replace with actual dataset\n",
    "    eval_dataset=val_dataset,    # Replace with actual dataset\n",
    "    tokenizer=image_processor,\n",
    "    compute_metrics=compute_metrics,\n",
    "    data_collator=collate_fn\n",
    "    callbacks=[EarlyStoppingCallback(early_stopping_patience=2)]\n",
    ")\n",
    "\n",
    "# Start training\n",
    "# trainer.train()"
   ]
  },
  {
   "cell_type": "markdown",
   "id": "379c874d",
   "metadata": {},
   "source": [
    "## Hyperparameter Tuning with Weights & Biases (wandb)\n",
    "We used [Weights & Biases (wandb)](https://wandb.ai/) to track model training metrics and perform hyperparameter tuning. This integration provided real-time insights into training dynamics and allowed efficient experiment comparison."
   ]
  },
  {
   "cell_type": "code",
   "execution_count": null,
   "id": "7fd3c7d2",
   "metadata": {},
   "outputs": [],
   "source": [
    "import wandb\n",
    "wandb.init(project='deepfake-detection', name='convnextv2-tuning')\n",
    "# wandb.config = {...}  # Define sweep or parameter config here if used\n"
   ]
  },
  {
   "cell_type": "markdown",
   "id": "f9ef519b",
   "metadata": {},
   "source": [
    "## Notes on Data Privacy and Simplification\n",
    "Due to internal company information security policies, certain dataset and training artifacts have been removed from this public notebook. This version has been refactored to provide a clean, structured overview based on the original training pipeline. While sensitive outputs and data are excluded, this notebook reflects the core logic and methodology used in our production workflow."
   ]
  },
  {
   "cell_type": "markdown",
   "id": "9f88c145",
   "metadata": {},
   "source": [
    "## Summary\n",
    "This notebook outlines a streamlined pipeline for training and tuning a ConvNeXt V2 model using Hugging Face. Key components include preprocessing, augmentation, early stopping, and evaluation logic."
   ]
  }
 ],
 "metadata": {
  "language_info": {
   "name": "python"
  }
 },
 "nbformat": 4,
 "nbformat_minor": 5
}
